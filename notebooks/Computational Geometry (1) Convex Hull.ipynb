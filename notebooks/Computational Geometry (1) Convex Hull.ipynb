{
 "cells": [
  {
   "cell_type": "markdown",
   "metadata": {},
   "source": [
    "## The Convex Hull ##"
   ]
  },
  {
   "cell_type": "markdown",
   "metadata": {},
   "source": [
    "The convex hull is one of the simplest computational geometry algorithms. In two dimensional space, it is defined as the smallest convex polygon that contains a set of points. This can also be extended to three dimensions where it becomes the smallest convex polyhedron that contains a set of points in space.\n",
    "\n",
    "There are many problems that a convex hull can be applied to, one of the most well known is robot motion planning. Helping to guide a robot past obstacles without hitting them.\n",
    "\n",
    "The code to compute the convex hull does not require any additional modules to be imported. The randrange function is used to generate a set of points to test the convex hull algorithm and matplotlib is used to display the result.\n"
   ]
  },
  {
   "cell_type": "code",
   "execution_count": 1,
   "metadata": {},
   "outputs": [],
   "source": [
    "from random import randrange\n",
    "from matplotlib import pyplot as plt"
   ]
  },
  {
   "cell_type": "markdown",
   "metadata": {},
   "source": [
    "Set some initial parameters including the size of the area (in pixels) within which to generate points, and the number of points to add. The min and max x, y values are used to create a border so that points aren't placed at the edge of the image. This is just to make it easier to view."
   ]
  },
  {
   "cell_type": "code",
   "execution_count": 13,
   "metadata": {},
   "outputs": [],
   "source": [
    "image_x = 600\n",
    "image_y = 600\n",
    "\n",
    "min_x = 20\n",
    "max_x = 580\n",
    "min_y = 20\n",
    "max_y = 580\n",
    "\n",
    "number_of_points = 100"
   ]
  },
  {
   "cell_type": "markdown",
   "metadata": {},
   "source": [
    "Generate some random points within the area defined, and add these to a list where each point is a dictionary defining an x and y corrdinate."
   ]
  },
  {
   "cell_type": "code",
   "execution_count": 14,
   "metadata": {},
   "outputs": [],
   "source": [
    "points = []\n",
    "\n",
    "for i in range (0, number_of_points):\n",
    "    x = randrange(min_x, max_x, 1)\n",
    "    y = randrange(min_y, max_y, 1)\n",
    "    points.append({'x':x, 'y':y})"
   ]
  },
  {
   "cell_type": "markdown",
   "metadata": {},
   "source": [
    "Plot the randomly generated points on a chart using matplotlib"
   ]
  },
  {
   "cell_type": "code",
   "execution_count": 15,
   "metadata": {},
   "outputs": [
    {
     "data": {
      "image/png": "[encoded data removed]",
      "text/plain": [
       "<Figure size 432x288 with 1 Axes>"
      ]
     },
     "metadata": {
      "needs_background": "light"
     },
     "output_type": "display_data"
    }
   ],
   "source": [
    "fig = plt.figure()\n",
    "for point in points:\n",
    "    plt.plot(point['x'], point['y'], 'ro')\n",
    "ax = plt.gca()\n",
    "ax.axes.xaxis.set_visible(False)\n",
    "ax.axes.yaxis.set_visible(False)\n",
    "plt.show()"
   ]
  },
  {
   "cell_type": "markdown",
   "metadata": {},
   "source": [
    "A useful function to print out the list of points"
   ]
  },
  {
   "cell_type": "code",
   "execution_count": 16,
   "metadata": {},
   "outputs": [],
   "source": [
    "def print_points_sequence(points_set):\n",
    "    for point in points_set:\n",
    "        print('('+str(point['x'])+\",\"+str(point['y'])+')')"
   ]
  },
  {
   "cell_type": "markdown",
   "metadata": {},
   "source": [
    "This function will iterate through the list of points and display them on the chart and then connect adjacent pairs of points in the hull_points list. The list of points are the vertices of the convex hull."
   ]
  },
  {
   "cell_type": "code",
   "execution_count": 17,
   "metadata": {},
   "outputs": [],
   "source": [
    "def draw_hull(hull_points):\n",
    "    \n",
    "    fig = plt.figure()\n",
    "    for point in points:\n",
    "        plt.plot(point['x'], point['y'], 'ro')\n",
    "    for i in range(0,len(hull_points)-1):\n",
    "        start = hull_points[i]\n",
    "        end = hull_points[i+1]\n",
    "        x = [start['x'],end['x']]\n",
    "        y = [start['y'],end['y']]\n",
    "        plt.plot(x,y,'-',color='blue')\n",
    "    ax = plt.gca()\n",
    "    ax.axes.xaxis.set_visible(False)\n",
    "    ax.axes.yaxis.set_visible(False)"
   ]
  },
  {
   "cell_type": "markdown",
   "metadata": {},
   "source": [
    "This function will step through a list of points and determine whether 3 adjacent points are co-linear, convex, or concave. Scanning from left to right in increasing value of the x coordinate, 3 points are cocave if it makes a left turn. \n",
    "This can easily be determined by computing the cross product of the 3 points"
   ]
  },
  {
   "cell_type": "code",
   "execution_count": 18,
   "metadata": {},
   "outputs": [],
   "source": [
    "def remove_concavaties(points_set):        \n",
    "    number_points = len(points_set)\n",
    "    if number_points > 2:\n",
    "        for j in range(number_points-1, 1, -1):\n",
    "            first = points_set[j-2]\n",
    "            middle = points_set[j-1]\n",
    "            last = points_set[j]\n",
    "            cross_product = ((middle['x']-first['x'])*(last['y']-first['y']))-((middle['y']-first['y'])*(last['x']-first['x']))\n",
    "            if cross_product < 0:\n",
    "                #Remove the middle of the last 3 points from the list  \n",
    "                del points_set[j-1]        \n",
    "    return points_set\n"
   ]
  },
  {
   "cell_type": "markdown",
   "metadata": {},
   "source": [
    "Iterate through the points and remove concavities to build either the upper or lower section of the convex hull"
   ]
  },
  {
   "cell_type": "code",
   "execution_count": 19,
   "metadata": {},
   "outputs": [],
   "source": [
    "def build_hull_section(section, section_range, sorted_points):\n",
    "    for i in section_range:\n",
    "        section.append(sorted_points[i])\n",
    "        section = remove_concavaties(section)\n",
    "    return section"
   ]
  },
  {
   "cell_type": "markdown",
   "metadata": {},
   "source": [
    "First, the list of points must be sorted in increasing order of x coordinate value"
   ]
  },
  {
   "cell_type": "code",
   "execution_count": 20,
   "metadata": {},
   "outputs": [
    {
     "name": "stdout",
     "output_type": "stream",
     "text": [
      "Points have been sorted by increasing x value\n"
     ]
    }
   ],
   "source": [
    "sorted_points = sorted(points, key=lambda k: k['x']) \n",
    "print(\"Points have been sorted by increasing x value\")\n",
    "\n",
    "number_of_points = len(points)"
   ]
  },
  {
   "cell_type": "markdown",
   "metadata": {},
   "source": [
    "Compute the convex hull in two parts, the upper and then the lower section and join these to form the convex hull. Since there must be a minimum of 3 points to compare, add the first two points to the list and then iteratively add the next point in increasing x coordinate value, checking at each stage whether this creates a concave shape."
   ]
  },
  {
   "cell_type": "code",
   "execution_count": 21,
   "metadata": {
    "scrolled": false
   },
   "outputs": [
    {
     "name": "stdout",
     "output_type": "stream",
     "text": [
      "Enough points to draw upper section of convex hull\n",
      "Upper hull computed\n",
      "(25,260)\n",
      "(107,23)\n",
      "(383,31)\n",
      "(412,36)\n",
      "(530,68)\n",
      "(552,87)\n",
      "(574,469)\n"
     ]
    }
   ],
   "source": [
    "upper = []\n",
    "\n",
    "if number_of_points >= 3:\n",
    "    print(\"Enough points to draw upper section of convex hull\")\n",
    "    upper.append(sorted_points[0])\n",
    "    upper.append(sorted_points[1])\n",
    "    section_range = range(2, number_of_points)\n",
    "    upper = build_hull_section(upper, section_range, sorted_points)\n",
    "    print(\"Upper hull computed\")\n",
    "    print_points_sequence(upper)\n",
    "   "
   ]
  },
  {
   "cell_type": "markdown",
   "metadata": {},
   "source": [
    "Compute the lower part of the convex hull, starting at the point with the greatest x coordinate value"
   ]
  },
  {
   "cell_type": "code",
   "execution_count": 22,
   "metadata": {},
   "outputs": [
    {
     "name": "stdout",
     "output_type": "stream",
     "text": [
      "Enough points to draw lower section of convex hull\n",
      "Lower hull computed\n",
      "(574,469)\n",
      "(573,504)\n",
      "(524,578)\n",
      "(418,579)\n",
      "(137,572)\n",
      "(31,537)\n",
      "(27,362)\n",
      "(25,260)\n"
     ]
    }
   ],
   "source": [
    "lower = []\n",
    "\n",
    "if number_of_points >= 3:\n",
    "    print(\"Enough points to draw lower section of convex hull\")\n",
    "    lower.append(sorted_points[number_of_points-1])\n",
    "    lower.append(sorted_points[number_of_points-2])\n",
    "    section_range = range(number_of_points-3,-1,-1)\n",
    "    lower = build_hull_section(lower, section_range, sorted_points)  \n",
    "    print(\"Lower hull computed\")\n",
    "    print_points_sequence(lower)"
   ]
  },
  {
   "cell_type": "markdown",
   "metadata": {},
   "source": [
    "Now combine the upper and lower hull sections by appending the lower points list to the upper list. Then draw lines connecting each successive pair of points to display the convex hull"
   ]
  },
  {
   "cell_type": "code",
   "execution_count": 23,
   "metadata": {},
   "outputs": [
    {
     "name": "stdout",
     "output_type": "stream",
     "text": [
      "Upper and lower hulls joined\n",
      "(25,260)\n",
      "(107,23)\n",
      "(383,31)\n",
      "(412,36)\n",
      "(530,68)\n",
      "(552,87)\n",
      "(574,469)\n",
      "(574,469)\n",
      "(573,504)\n",
      "(524,578)\n",
      "(418,579)\n",
      "(137,572)\n",
      "(31,537)\n",
      "(27,362)\n",
      "(25,260)\n"
     ]
    },
    {
     "data": {
      "image/png": "[encoded data removed]",
      "text/plain": [
       "<Figure size 432x288 with 1 Axes>"
      ]
     },
     "metadata": {
      "needs_background": "light"
     },
     "output_type": "display_data"
    }
   ],
   "source": [
    "upper.extend(lower)\n",
    "print(\"Upper and lower hulls joined\")\n",
    "print_points_sequence(upper)\n",
    "draw_hull(upper)\n",
    "plt.show()"
   ]
  },
  {
   "cell_type": "code",
   "execution_count": null,
   "metadata": {
    "collapsed": true
   },
   "outputs": [],
   "source": []
  }
 ],
 "metadata": {
  "kernelspec": {
   "display_name": "Python 3",
   "language": "python",
   "name": "python3"
  },
  "language_info": {
   "codemirror_mode": {
    "name": "ipython",
    "version": 3
   },
   "file_extension": ".py",
   "mimetype": "text/x-python",
   "name": "python",
   "nbconvert_exporter": "python",
   "pygments_lexer": "ipython3",
   "version": "3.8.8"
  }
 },
 "nbformat": 4,
 "nbformat_minor": 2
}
